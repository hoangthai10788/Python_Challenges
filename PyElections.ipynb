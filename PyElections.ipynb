{
 "cells": [
  {
   "cell_type": "code",
   "execution_count": 2,
   "metadata": {},
   "outputs": [
    {
     "name": "stdout",
     "output_type": "stream",
     "text": [
      "Houston Mayoral Election Results\n",
      "-----------------------------------------\n",
      "Total Cast Votes: 237773\n",
      "-----------------------------------------\n",
      "Dwight A. Boykins: 5.89% (14015)\n",
      "Bill King: 14.00% (33281)\n",
      "Sylvester Turner: 46.37% (110246)\n",
      "Tony Buzbee: 28.79% (68463)\n",
      "Victoria Romero: 1.22% (2907)\n",
      "Roy J. Vasquez: 0.65% (1536)\n",
      "Demetria Smith: 0.71% (1677)\n",
      "Sue Lovell: 1.22% (2904)\n",
      "Derrick Broze: 0.28% (672)\n",
      "Kendall Baker: 0.41% (970)\n",
      "Johnny “J.T.” Taylor: 0.23% (548)\n",
      "Naoufal Houjami: 0.23% (554)\n",
      "-----------------------------------------\n",
      "1st Advancing Candidate: Sylvester Turner\n",
      "2nd Advancing Candidate: Tony Buzbee\n",
      "-----------------------------------------\n"
     ]
    }
   ],
   "source": [
    "import os\n",
    "import csv\n",
    "\n",
    "def election_data(csvpath):\n",
    "    dict_election_data = {}\n",
    "    with open(csvpath) as csvfile:        \n",
    "        csvreader = csv.reader(csvfile, delimiter = \",\")\n",
    "        next(csvreader)\n",
    "        for row in csvreader:\n",
    "            dict_election_data[row[2]] = [row[0], row[1]]\n",
    "    return dict_election_data\n",
    "\n",
    "def main():\n",
    "    print(\"Houston Mayoral Election Results\")\n",
    "    print(\"-\" * 41)\n",
    "    csvpath = os.getcwd() + \"/Desktop/DataAnalytics/Week3/Homework_03-Python-Challenge_Instructions_PyElections_Resources_houston_election_data.csv\"\n",
    "    data = election_data(csvpath)\n",
    "    total_cast_votes = 0\n",
    "    total_votes = {}\n",
    "    \n",
    "    for key, value in data.items():\n",
    "        if data[key][0] not in total_votes:\n",
    "            total_votes[data[key][0]] = 1\n",
    "            total_cast_votes += 1\n",
    "        else:\n",
    "            total_votes[data[key][0]] += 1\n",
    "            total_cast_votes += 1\n",
    "    \n",
    "    print(\"Total Cast Votes: {}\".format(total_cast_votes))\n",
    "    print(\"-\" * 41)\n",
    "    \n",
    "    for key, value in total_votes.items():\n",
    "        average_percentage = (value / total_cast_votes) * 100\n",
    "        print(\"{}: {:0.2f}% ({})\".format(key, average_percentage, value))\n",
    "    \n",
    "    print(\"-\" * 41)\n",
    "    \n",
    "    maximum_votes = max(total_votes.values())\n",
    "    second_maximum = 0\n",
    "    for value in total_votes.values():\n",
    "        if value > second_maximum and value < maximum_votes:\n",
    "            second_maximum = value\n",
    "    \n",
    "    for key, value in total_votes.items():\n",
    "        if total_votes[key] == maximum_votes:\n",
    "            first_advancing = key\n",
    "        elif total_votes[key] == second_maximum:\n",
    "            second_advancing = key\n",
    "        else:\n",
    "            pass\n",
    "    \n",
    "    print(\"1st Advancing Candidate: {}\".format(first_advancing))\n",
    "    print(\"2nd Advancing Candidate: {}\".format(second_advancing))\n",
    "    print(\"-\" * 41)\n",
    "main()"
   ]
  },
  {
   "cell_type": "code",
   "execution_count": 3,
   "metadata": {},
   "outputs": [
    {
     "ename": "NameError",
     "evalue": "name 'data' is not defined",
     "output_type": "error",
     "traceback": [
      "\u001b[0;31m---------------------------------------------------------------------------\u001b[0m",
      "\u001b[0;31mNameError\u001b[0m                                 Traceback (most recent call last)",
      "\u001b[0;32m<ipython-input-3-c6201f8cef64>\u001b[0m in \u001b[0;36m<module>\u001b[0;34m\u001b[0m\n\u001b[0;32m----> 1\u001b[0;31m \u001b[0mlen\u001b[0m\u001b[0;34m(\u001b[0m\u001b[0mdata\u001b[0m\u001b[0;34m)\u001b[0m\u001b[0;34m\u001b[0m\u001b[0;34m\u001b[0m\u001b[0m\n\u001b[0m",
      "\u001b[0;31mNameError\u001b[0m: name 'data' is not defined"
     ]
    }
   ],
   "source": [
    "len(data)"
   ]
  },
  {
   "cell_type": "code",
   "execution_count": 6,
   "metadata": {},
   "outputs": [
    {
     "name": "stdout",
     "output_type": "stream",
     "text": [
      "Houston Mayoral Election Results\n",
      "-----------------------------------------\n",
      "first vote: ('3363684', ['Dwight A. Boykins', 'Harris County'])\n",
      "last vote: ('8778789', ['Demetria Smith', 'Montgomery County'])\n",
      "Total Cast Votes: 237773\n",
      "-----------------------------------------\n",
      "Dwight A. Boykins: 5.89% (14015)\n",
      "Bill King: 14.00% (33281)\n",
      "Sylvester Turner: 46.37% (110246)\n",
      "Tony Buzbee: 28.79% (68463)\n",
      "Victoria Romero: 1.22% (2907)\n",
      "Roy J. Vasquez: 0.65% (1536)\n",
      "Demetria Smith: 0.71% (1677)\n",
      "Sue Lovell: 1.22% (2904)\n",
      "Derrick Broze: 0.28% (672)\n",
      "Kendall Baker: 0.41% (970)\n",
      "Johnny “J.T.” Taylor: 0.23% (548)\n",
      "Naoufal Houjami: 0.23% (554)\n",
      "-----------------------------------------\n",
      "1st Advancing Candidate: Sylvester Turner\n",
      "2nd Advancing Candidate: Tony Buzbee\n",
      "-----------------------------------------\n"
     ]
    }
   ],
   "source": [
    "import os\n",
    "import csv\n",
    "\n",
    "def election_data(csvpath):\n",
    "    dict_election_data = {}\n",
    "    with open(csvpath) as csvfile:        \n",
    "        csvreader = csv.reader(csvfile, delimiter = \",\")\n",
    "        next(csvreader)\n",
    "        for row in csvreader:\n",
    "            dict_election_data[row[2]] = [row[0], row[1]]\n",
    "    return dict_election_data\n",
    "\n",
    "\n",
    "print(\"Houston Mayoral Election Results\")\n",
    "print(\"-\" * 41)\n",
    "csvpath = os.getcwd() + \"/Desktop/DataAnalytics/Week3/Homework_03-Python-Challenge_Instructions_PyElections_Resources_houston_election_data.csv\"\n",
    "data = election_data(csvpath)\n",
    "total_cast_votes = 0\n",
    "total_votes = {}\n",
    "\n",
    "for key, value in data.items():\n",
    "    if total_cast_votes == 0:\n",
    "        print(f\"first vote: {key, value}\")\n",
    "    if data[key][0] not in total_votes:\n",
    "        total_votes[data[key][0]] = 1\n",
    "        total_cast_votes += 1\n",
    "    else:\n",
    "        total_votes[data[key][0]] += 1\n",
    "        total_cast_votes += 1\n",
    "\n",
    "print(f\"last vote: {key, value}\")\n",
    "print(\"Total Cast Votes: {}\".format(total_cast_votes))\n",
    "print(\"-\" * 41)\n",
    "\n",
    "for key, value in total_votes.items():\n",
    "    average_percentage = (value / total_cast_votes) * 100\n",
    "    print(\"{}: {:0.2f}% ({})\".format(key, average_percentage, value))\n",
    "\n",
    "print(\"-\" * 41)\n",
    "\n",
    "maximum_votes = max(total_votes.values())\n",
    "second_maximum = 0\n",
    "for value in total_votes.values():\n",
    "    if value > second_maximum and value < maximum_votes:\n",
    "        second_maximum = value\n",
    "\n",
    "for key, value in total_votes.items():\n",
    "    if total_votes[key] == maximum_votes:\n",
    "        first_advancing = key\n",
    "    elif total_votes[key] == second_maximum:\n",
    "        second_advancing = key\n",
    "    else:\n",
    "        pass\n",
    "\n",
    "print(\"1st Advancing Candidate: {}\".format(first_advancing))\n",
    "print(\"2nd Advancing Candidate: {}\".format(second_advancing))\n",
    "print(\"-\" * 41)\n"
   ]
  },
  {
   "cell_type": "code",
   "execution_count": 7,
   "metadata": {},
   "outputs": [
    {
     "name": "stdout",
     "output_type": "stream",
     "text": [
      "237773\n"
     ]
    }
   ],
   "source": [
    "len(data)\n",
    "print(total_cast_votes)"
   ]
  },
  {
   "cell_type": "code",
   "execution_count": null,
   "metadata": {},
   "outputs": [],
   "source": []
  }
 ],
 "metadata": {
  "kernelspec": {
   "display_name": "Python 3",
   "language": "python",
   "name": "python3"
  },
  "language_info": {
   "codemirror_mode": {
    "name": "ipython",
    "version": 3
   },
   "file_extension": ".py",
   "mimetype": "text/x-python",
   "name": "python",
   "nbconvert_exporter": "python",
   "pygments_lexer": "ipython3",
   "version": "3.7.4"
  }
 },
 "nbformat": 4,
 "nbformat_minor": 2
}
