{
 "cells": [
  {
   "cell_type": "code",
   "execution_count": 1,
   "metadata": {},
   "outputs": [
    {
     "name": "stdout",
     "output_type": "stream",
     "text": [
      "Financial Analysis\n",
      "------------------------------\n",
      "Total Months: 86\n",
      "Total: $38382578\n",
      "Greatest Increase in Profits: Aug-2013 ($999942)\n",
      "Greatest Decrease in Profits: Aug-2012 ($-1022534)\n"
     ]
    }
   ],
   "source": [
    "import csv\n",
    "import os\n",
    "\n",
    "def finance_data(csvpath):\n",
    "    dict_finance_data = {}\n",
    "    with open(csvpath) as csvfile:\n",
    "        csvreader = csv.reader(csvfile, delimiter = \",\")\n",
    "        next(csvreader)\n",
    "        for row in csvreader:\n",
    "            dict_finance_data[row[1]] = row[0]\n",
    "    return dict_finance_data\n",
    "\n",
    "def main():\n",
    "    path = os.getcwd() + \"/Desktop/DataAnalytics/Week3/Homework_03-Python-Challenge_Instructions_PyFinances_Resources_budget_data.csv\"\n",
    "    data = finance_data(path)\n",
    "    print(\"Financial Analysis\")\n",
    "    print(\"-\" * 30)\n",
    "    total_months = 0\n",
    "    total_money = 0\n",
    "    maximum_month = max(data.values())\n",
    "    minimum_month = min(data.values())\n",
    "    \n",
    "    for key, value in data.items():\n",
    "        total_months += 1\n",
    "        total_money += int(value)\n",
    "        if data[key] == maximum_month:\n",
    "            greatest_increase = key\n",
    "        elif data[key] == minimum_month:\n",
    "            greatest_decrease = key\n",
    "        else:\n",
    "            pass\n",
    "    \n",
    "    print(\"Total Months: {}\".format(total_months))\n",
    "    print(\"Total: ${}\".format(total_money))\n",
    "    \n",
    "    print(\"Greatest Increase in Profits: {} (${})\".format(greatest_increase, maximum_month))\n",
    "    print(\"Greatest Decrease in Profits: {} (${})\".format(greatest_decrease, minimum_month))\n",
    "main()"
   ]
  },
  {
   "cell_type": "code",
   "execution_count": 20,
   "metadata": {},
   "outputs": [
    {
     "name": "stdout",
     "output_type": "stream",
     "text": [
      "87\n",
      "-98\n"
     ]
    }
   ],
   "source": [
    "dictionary = {\"a\": 1, \"b\": -9, \"c\": 56, \"d\": -98, \"e\": 87}\n",
    "print(max(dictionary.values()))\n",
    "print(min(dictionary.values()))\n"
   ]
  }
 ],
 "metadata": {
  "kernelspec": {
   "display_name": "Python 3",
   "language": "python",
   "name": "python3"
  },
  "language_info": {
   "codemirror_mode": {
    "name": "ipython",
    "version": 3
   },
   "file_extension": ".py",
   "mimetype": "text/x-python",
   "name": "python",
   "nbconvert_exporter": "python",
   "pygments_lexer": "ipython3",
   "version": "3.7.4"
  }
 },
 "nbformat": 4,
 "nbformat_minor": 2
}
